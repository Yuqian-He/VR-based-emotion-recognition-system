{
 "cells": [
  {
   "cell_type": "markdown",
   "id": "cdc31fe2",
   "metadata": {},
   "source": [
    "# Codes in `main()` function"
   ]
  },
  {
   "cell_type": "markdown",
   "id": "f9ab99bf",
   "metadata": {},
   "source": [
    "## 1. Only run this once at the beginning."
   ]
  },
  {
   "cell_type": "code",
   "execution_count": 4,
   "id": "5eb5b7ee",
   "metadata": {},
   "outputs": [],
   "source": [
    "from Script import *\n",
    "MLP_clf, min_list, minus_list = TrainModel()"
   ]
  },
  {
   "cell_type": "markdown",
   "id": "b09c20d5",
   "metadata": {},
   "source": [
    "## 2. Run this when you want to input audio."
   ]
  },
  {
   "cell_type": "code",
   "execution_count": 5,
   "id": "13ad874f",
   "metadata": {
    "scrolled": true
   },
   "outputs": [
    {
     "name": "stdout",
     "output_type": "stream",
     "text": [
      "Recording started.\n",
      "Recording finished.\n",
      "Neutral\n"
     ]
    },
    {
     "name": "stderr",
     "output_type": "stream",
     "text": [
      "/home/s5526309/.pyenv/versions/anaconda3-2022.05/lib/python3.9/site-packages/sklearn/base.py:443: UserWarning: X has feature names, but MLPClassifier was fitted without feature names\n",
      "  warnings.warn(\n"
     ]
    }
   ],
   "source": [
    "RealTimeRecognition(MLP_clf,min_list,minus_list)"
   ]
  }
 ],
 "metadata": {
  "kernelspec": {
   "display_name": "Python 3 (ipykernel)",
   "language": "python",
   "name": "python3"
  },
  "language_info": {
   "codemirror_mode": {
    "name": "ipython",
    "version": 3
   },
   "file_extension": ".py",
   "mimetype": "text/x-python",
   "name": "python",
   "nbconvert_exporter": "python",
   "pygments_lexer": "ipython3",
   "version": "3.9.12"
  }
 },
 "nbformat": 4,
 "nbformat_minor": 5
}
